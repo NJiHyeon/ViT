{
 "cells": [
  {
   "cell_type": "code",
   "execution_count": 3,
   "metadata": {
    "colab": {
     "base_uri": "https://localhost:8080/"
    },
    "executionInfo": {
     "elapsed": 245,
     "status": "ok",
     "timestamp": 1646319106886,
     "user": {
      "displayName": "딥러닝호형",
      "photoUrl": "https://lh3.googleusercontent.com/a-/AOh14GhhDjkGnBZ0JW1k2J6y2lNP9dJeVbQWPuZEpfUc=s64",
      "userId": "11263585794403583722"
     },
     "user_tz": -60
    },
    "id": "y1w1d5zbgezb",
    "outputId": "c5c0a545-7385-4a47-aed0-610042d02f5c"
   },
   "outputs": [
    {
     "name": "stdout",
     "output_type": "stream",
     "text": [
      "/home/ubuntu/nozzi/pytorch/프로젝트/ViT/VisionTransformer/VisionTransformer\n"
     ]
    }
   ],
   "source": [
    "cd /home/ubuntu/nozzi/pytorch/프로젝트/ViT/VisionTransformer/VisionTransformer"
   ]
  },
  {
   "cell_type": "code",
   "execution_count": null,
   "metadata": {
    "id": "Ua46JIaIgi9X"
   },
   "outputs": [
    {
     "name": "stdout",
     "output_type": "stream",
     "text": [
      "Namespace(img_size=32, patch_size=4, batch_size=128, save_acc=50, epochs=501, lr=0.002, drop_rate=0.1, weight_decay=0.0002, num_classes=10, latent_vec_dim=128, num_heads=8, num_layers=12, dataname='cifar10', mode='train', pretrained=True)\n",
      "Downloading https://www.cs.toronto.edu/~kriz/cifar-10-python.tar.gz to ./data/cifar-10-python.tar.gz\n",
      "170500096it [00:21, 7883535.98it/s]                                             \n",
      "Extracting ./data/cifar-10-python.tar.gz to ./data\n",
      "Files already downloaded and verified\n",
      "[0] train loss: 0.360, validation loss: 0.499, validation acc 83.70 %\n",
      "[1] train loss: 0.385, validation loss: 0.504, validation acc 83.42 %\n",
      "[2] train loss: 0.407, validation loss: 0.504, validation acc 83.26 %\n",
      "[3] train loss: 0.424, validation loss: 0.509, validation acc 83.02 %\n",
      "[4] train loss: 0.447, validation loss: 0.517, validation acc 82.38 %\n",
      "[5] train loss: 0.455, validation loss: 0.501, validation acc 82.10 %\n",
      "[6] train loss: 0.470, validation loss: 0.523, validation acc 82.78 %\n",
      "[7] train loss: 0.484, validation loss: 0.533, validation acc 81.52 %\n",
      "[8] train loss: 0.476, validation loss: 0.529, validation acc 82.12 %\n",
      "[9] train loss: 0.487, validation loss: 0.488, validation acc 83.42 %\n",
      "[10] train loss: 0.497, validation loss: 0.520, validation acc 82.32 %\n",
      "[11] train loss: 0.498, validation loss: 0.500, validation acc 83.12 %\n",
      "[12] train loss: 0.506, validation loss: 0.529, validation acc 82.12 %\n",
      "[13] train loss: 0.505, validation loss: 0.510, validation acc 82.54 %\n",
      "[14] train loss: 0.499, validation loss: 0.521, validation acc 82.64 %\n",
      "[15] train loss: 0.508, validation loss: 0.514, validation acc 81.86 %\n",
      "[16] train loss: 0.514, validation loss: 0.508, validation acc 82.86 %\n",
      "[17] train loss: 0.514, validation loss: 0.515, validation acc 82.24 %\n",
      "[18] train loss: 0.508, validation loss: 0.507, validation acc 82.44 %\n",
      "[19] train loss: 0.515, validation loss: 0.535, validation acc 81.80 %\n",
      "[20] train loss: 0.518, validation loss: 0.532, validation acc 82.02 %\n",
      "[21] train loss: 0.521, validation loss: 0.508, validation acc 82.24 %\n",
      "[22] train loss: 0.516, validation loss: 0.529, validation acc 82.42 %\n",
      "[23] train loss: 0.529, validation loss: 0.505, validation acc 82.84 %\n",
      "[24] train loss: 0.529, validation loss: 0.530, validation acc 81.72 %\n",
      "[25] train loss: 0.534, validation loss: 0.518, validation acc 81.82 %\n",
      "[26] train loss: 0.528, validation loss: 0.525, validation acc 81.56 %\n",
      "[27] train loss: 0.528, validation loss: 0.533, validation acc 81.76 %\n",
      "[28] train loss: 0.528, validation loss: 0.535, validation acc 81.44 %\n",
      "[29] train loss: 0.531, validation loss: 0.529, validation acc 81.42 %\n",
      "[30] train loss: 0.537, validation loss: 0.529, validation acc 81.74 %\n",
      "[31] train loss: 0.525, validation loss: 0.521, validation acc 82.62 %\n",
      "[32] train loss: 0.532, validation loss: 0.539, validation acc 81.42 %\n",
      "[33] train loss: 0.525, validation loss: 0.548, validation acc 80.68 %\n",
      "[34] train loss: 0.525, validation loss: 0.520, validation acc 82.02 %\n",
      "[35] train loss: 0.522, validation loss: 0.539, validation acc 81.36 %\n",
      "[36] train loss: 0.526, validation loss: 0.551, validation acc 80.98 %\n",
      "[37] train loss: 0.528, validation loss: 0.573, validation acc 81.66 %\n",
      "[38] train loss: 0.535, validation loss: 0.537, validation acc 81.26 %\n",
      "[39] train loss: 0.536, validation loss: 0.524, validation acc 81.62 %\n",
      "[40] train loss: 0.529, validation loss: 0.523, validation acc 82.22 %\n",
      "[41] train loss: 0.543, validation loss: 0.512, validation acc 82.60 %\n",
      "[42] train loss: 0.531, validation loss: 0.524, validation acc 81.54 %\n",
      "[43] train loss: 0.528, validation loss: 0.527, validation acc 81.34 %\n",
      "[44] train loss: 0.531, validation loss: 0.531, validation acc 81.54 %\n",
      "[45] train loss: 0.527, validation loss: 0.502, validation acc 82.60 %\n",
      "[46] train loss: 0.523, validation loss: 0.538, validation acc 81.42 %\n",
      "[47] train loss: 0.530, validation loss: 0.546, validation acc 81.38 %\n",
      "[48] train loss: 0.528, validation loss: 0.530, validation acc 81.34 %\n",
      "[49] train loss: 0.531, validation loss: 0.545, validation acc 81.82 %\n",
      "[50] train loss: 0.526, validation loss: 0.539, validation acc 81.10 %\n",
      "[51] train loss: 0.535, validation loss: 0.513, validation acc 81.88 %\n",
      "[52] train loss: 0.524, validation loss: 0.552, validation acc 81.30 %\n",
      "[53] train loss: 0.532, validation loss: 0.537, validation acc 82.08 %\n",
      "[54] train loss: 0.533, validation loss: 0.541, validation acc 81.56 %\n",
      "[55] train loss: 0.527, validation loss: 0.511, validation acc 82.62 %\n",
      "[56] train loss: 0.523, validation loss: 0.552, validation acc 81.26 %\n",
      "[57] train loss: 0.521, validation loss: 0.514, validation acc 82.40 %\n",
      "[58] train loss: 0.531, validation loss: 0.504, validation acc 82.84 %\n",
      "[59] train loss: 0.526, validation loss: 0.520, validation acc 81.78 %\n",
      "[60] train loss: 0.528, validation loss: 0.540, validation acc 81.26 %\n",
      "[61] train loss: 0.528, validation loss: 0.521, validation acc 82.04 %\n",
      "[62] train loss: 0.524, validation loss: 0.535, validation acc 81.80 %\n",
      "[63] train loss: 0.525, validation loss: 0.513, validation acc 82.10 %\n",
      "[64] train loss: 0.524, validation loss: 0.519, validation acc 82.40 %\n",
      "[65] train loss: 0.524, validation loss: 0.527, validation acc 81.96 %\n",
      "[66] train loss: 0.529, validation loss: 0.517, validation acc 82.56 %\n",
      "[67] train loss: 0.534, validation loss: 0.513, validation acc 81.86 %\n",
      "[68] train loss: 0.520, validation loss: 0.510, validation acc 82.66 %\n",
      "[69] train loss: 0.523, validation loss: 0.535, validation acc 81.70 %\n",
      "[70] train loss: 0.519, validation loss: 0.517, validation acc 82.48 %\n",
      "[71] train loss: 0.523, validation loss: 0.518, validation acc 82.22 %\n",
      "[72] train loss: 0.516, validation loss: 0.526, validation acc 82.22 %\n",
      "[73] train loss: 0.527, validation loss: 0.517, validation acc 82.10 %\n",
      "[74] train loss: 0.524, validation loss: 0.528, validation acc 82.38 %\n",
      "[75] train loss: 0.523, validation loss: 0.519, validation acc 82.40 %\n",
      "[76] train loss: 0.520, validation loss: 0.534, validation acc 81.88 %\n",
      "[77] train loss: 0.520, validation loss: 0.505, validation acc 83.10 %\n",
      "[78] train loss: 0.517, validation loss: 0.507, validation acc 83.18 %\n",
      "[79] train loss: 0.522, validation loss: 0.515, validation acc 82.28 %\n"
     ]
    }
   ],
   "source": [
    "!python vit.py --pretrained 1 --drop_rate 0.1 --weight_decay 2e-4"
   ]
  },
  {
   "cell_type": "markdown",
   "metadata": {},
   "source": [
    "- argparser를 통해서 파이썬에 들어가지 않고 외부값을 받도록\n",
    "- --변수명을 넣어서 입력 가능"
   ]
  },
  {
   "cell_type": "code",
   "execution_count": 4,
   "metadata": {
    "colab": {
     "base_uri": "https://localhost:8080/"
    },
    "executionInfo": {
     "elapsed": 27916,
     "status": "ok",
     "timestamp": 1646319157847,
     "user": {
      "displayName": "딥러닝호형",
      "photoUrl": "https://lh3.googleusercontent.com/a-/AOh14GhhDjkGnBZ0JW1k2J6y2lNP9dJeVbQWPuZEpfUc=s64",
      "userId": "11263585794403583722"
     },
     "user_tz": -60
    },
    "id": "7yxwUiHR2TbN",
    "outputId": "b9b0ec2f-acc4-41fd-b8c7-0ccdb618154f"
   },
   "outputs": [
    {
     "name": "stdout",
     "output_type": "stream",
     "text": [
      "Namespace(batch_size=128, dataname='cifar10', drop_rate=0.1, epochs=501, img_size=32, latent_vec_dim=128, lr=0.002, mode='test', num_classes=10, num_heads=8, num_layers=12, patch_size=4, pretrained=1, save_acc=50, weight_decay=0)\n",
      "Downloading https://www.cs.toronto.edu/~kriz/cifar-10-python.tar.gz to ./data/cifar-10-python.tar.gz\n",
      "170499072it [00:03, 47095510.84it/s]                   \n",
      "Extracting ./data/cifar-10-python.tar.gz to ./data\n",
      "Files already downloaded and verified\n",
      "test loss: 0.501, test acc 84.64 %\n"
     ]
    }
   ],
   "source": [
    "!python vit.py --pretrained 1 --mode test"
   ]
  },
  {
   "cell_type": "markdown",
   "metadata": {},
   "source": [
    "- mode에다가 train이 아닌 문자를 적어주면(단, pretrained를 True로) test 가능"
   ]
  }
 ],
 "metadata": {
  "accelerator": "GPU",
  "colab": {
   "collapsed_sections": [],
   "name": "vit.ipynb",
   "provenance": []
  },
  "kernelspec": {
   "display_name": "Python 3 (ipykernel)",
   "language": "python",
   "name": "python3"
  },
  "language_info": {
   "codemirror_mode": {
    "name": "ipython",
    "version": 3
   },
   "file_extension": ".py",
   "mimetype": "text/x-python",
   "name": "python",
   "nbconvert_exporter": "python",
   "pygments_lexer": "ipython3",
   "version": "3.9.13"
  }
 },
 "nbformat": 4,
 "nbformat_minor": 4
}
